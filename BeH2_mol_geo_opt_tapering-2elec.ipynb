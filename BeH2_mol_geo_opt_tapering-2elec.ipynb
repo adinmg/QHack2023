{
 "cells": [
  {
   "cell_type": "code",
   "execution_count": 17,
   "metadata": {},
   "outputs": [
    {
     "name": "stdout",
     "output_type": "stream",
     "text": [
      "[<IBMBackend('ibmq_jakarta')>, <IBMBackend('ibm_nairobi')>, <IBMBackend('ibmq_qasm_simulator')>, <IBMBackend('ibmq_lima')>, <IBMBackend('ibmq_belem')>, <IBMBackend('ibmq_quito')>, <IBMBackend('simulator_statevector')>, <IBMBackend('simulator_mps')>, <IBMBackend('simulator_extended_stabilizer')>, <IBMBackend('simulator_stabilizer')>, <IBMBackend('ibmq_manila')>, <IBMBackend('ibm_lagos')>, <IBMBackend('ibm_perth')>, <IBMBackend('ibm_oslo')>]\n"
     ]
    }
   ],
   "source": [
    "from qiskit import IBMQ\n",
    "import pennylane_qiskit \n",
    "import pennylane as qml\n",
    "from pennylane import numpy as np\n",
    "from qiskit_ibm_runtime import QiskitRuntimeService\n",
    "\n",
    "#IBMQ.save_account(\"\", overwrite=True)\n",
    "#IBMQ.load_account() # Load account from disk\n",
    "#provider = IBMQ.get_provider(hub='qhack-event', group='main', project='level-1')\n",
    "#provider = IBMQ.get_provider(hub='ibm-q', group='open', project='main')\n",
    "\n",
    "# Initialize the account first.\n",
    "service = QiskitRuntimeService(channel='ibm_quantum', \n",
    "                               token='')\n",
    "services = service.backends()\n",
    "print(services)"
   ]
  },
  {
   "cell_type": "code",
   "execution_count": 4,
   "metadata": {
    "collapsed": false,
    "jupyter": {
     "outputs_hidden": false
    }
   },
   "outputs": [],
   "source": [
    "# This cell is added by sphinx-gallery\n",
    "# It can be customized to whatever you like\n",
    "%matplotlib inline"
   ]
  },
  {
   "cell_type": "markdown",
   "metadata": {},
   "source": [
    "Optimization of molecular geometries\n",
    "====================================\n",
    "\n",
    "::: {.meta}\n",
    ":property=\\\"og:description\\\": Find the equilibrium geometry of a\n",
    "molecule :property=\\\"og:image\\\":\n",
    "<https://pennylane.ai/qml/_images/fig_pes.png>\n",
    ":::\n",
    "\n",
    "::: {.related}\n",
    "tutorial\\_quantum\\_chemistry Building molecular Hamiltonians\n",
    "tutorial\\_vqe A brief overview of VQE tutorial\\_givens\\_rotations Givens\n",
    "rotations for quantum chemistry\n",
    ":::\n",
    "\n",
    "*Author: Alain Delgado --- Posted: 30 June 2021. Last updated: 25 June\n",
    "2022.*\n",
    "\n",
    "Predicting the most stable arrangement of atoms in a molecule is one of\n",
    "the most important tasks in quantum chemistry. Essentially, this is an\n",
    "optimization problem where the total energy of the molecule is minimized\n",
    "with respect to the positions of the atomic nuclei. The molecular\n",
    "geometry obtained from this calculation is in fact the starting point\n",
    "for many simulations of molecular properties. If the geometry is\n",
    "inaccurate, then any calculations that rely on it may also be\n",
    "inaccurate.\n",
    "\n",
    "Since the nuclei are much heavier than the electrons, we can treat them\n",
    "as point particles clamped to their positions. Under this assumption,\n",
    "the total energy of the molecule $E(x)$ depends on the nuclear\n",
    "coordinates $x$, which define the potential energy surface. Solving the\n",
    "stationary problem $\\nabla_x E(x) = 0$ corresponds to molecular geometry\n",
    "optimization and the optimized nuclear coordinates determine the\n",
    "equilibrium geometry of the molecule. The figure below illustrates these\n",
    "concepts for the [trihydrogen\n",
    "cation](https://en.wikipedia.org/wiki/Trihydrogen_cation). Its\n",
    "equilibrium geometry in the electronic ground state corresponds to the\n",
    "minimum energy of the potential energy surface. At this minimum, the\n",
    "three hydrogen atoms are located at the vertices of an equilateral\n",
    "triangle whose side length is the optimized bond length $d$.\n",
    "\n",
    "| \n",
    "\n",
    "![](/demonstrations/mol_geo_opt/fig_pes.png){.align-center\n",
    "width=\"50.0%\"}\n",
    "\n",
    "| \n",
    "\n",
    "In this tutorial, you will learn how to recast the problem of finding\n",
    "the equilibrium geometry of a molecule in terms of a general variational\n",
    "quantum algorithm. The central idea is to consider explicitly that the\n",
    "target electronic Hamiltonian $H(x)$ is a **parametrized** observable\n",
    "that depends on the nuclear coordinates $x$. This implies that the\n",
    "objective function, defined by the expectation value of the Hamiltonian\n",
    "computed in the trial state prepared by a quantum computer, depends on\n",
    "both the quantum circuit and the Hamiltonian parameters.\n",
    "\n",
    "The quantum algorithm in a nutshell\n",
    "-----------------------------------\n",
    "\n",
    "The goal of the variational algorithm is to find the global minimum of\n",
    "the cost function\n",
    "$g(\\theta, x) = \\langle \\Psi(\\theta) \\vert H(x) \\vert \\Psi(\\theta) \\rangle$\n",
    "with respect to the circuit parameters $\\theta$ and the nuclear\n",
    "coordinates $x$ entering the electronic Hamiltonian of the molecule. To\n",
    "that end, we use a gradient-descent method and follow a **joint**\n",
    "optimization scheme where the gradients of the cost function with\n",
    "respect to circuit and Hamiltonian parameters are simultaneously\n",
    "computed at each step. This approach does not require nested\n",
    "optimization of the state parameters for each set of nuclear\n",
    "coordinates, as occurs in classical algorithms for molecular geometry\n",
    "optimization, where the energy minimum is searched for along the\n",
    "potential energy surface of the electronic state.\n",
    "\n",
    "In this tutorial we demonstrate how to use PennyLane to implement\n",
    "quantum optimization of molecular geometries. The algorithm consists of\n",
    "the following steps:\n",
    "\n",
    "1.  Build the parametrized electronic Hamiltonian $H(x)$ of the\n",
    "    molecule.\n",
    "\n",
    "2.  Design the variational quantum circuit to prepare the electronic\n",
    "    trial state of the molecule, $\\vert \\Psi(\\theta) \\rangle$.\n",
    "\n",
    "3.  Define the cost function\n",
    "    $g(\\theta, x) = \\langle \\Psi(\\theta) \\vert H(x) \\vert\n",
    "    \\Psi(\\theta) \\rangle$.\n",
    "\n",
    "4.  Initialize the variational parameters $\\theta$ and $x$. Perform a\n",
    "    joint optimization of the circuit and Hamiltonian parameters to\n",
    "    minimize the cost function $g(\\theta, x)$. The gradient with respect\n",
    "    to the circuit parameters can be obtained using a variety of\n",
    "    established methods, which are natively supported in PennyLane. The\n",
    "    gradients with respect to the nuclear coordinates can be computed\n",
    "    using the formula\n",
    "\n",
    "    $$\\nabla_x g(\\theta, x) = \\langle \\Psi(\\theta) \\vert \\nabla_x H(x) \\vert \\Psi(\\theta) \\rangle.$$\n",
    "\n",
    "Once the optimization is finalized, the circuit parameters determine the\n",
    "energy of the electronic state, and the nuclear coordinates determine\n",
    "the equilibrium geometry of the molecule in this state.\n",
    "\n",
    "Let\\'s get started! ⚛️\n",
    "\n",
    "Building the parametrized electronic Hamiltonian\n",
    "------------------------------------------------\n",
    "\n",
    "In this example, we want to optimize the geometry of the berilium dihydride $\\mathrm{BeH}_2$, described in a minimal basis set, where two\n",
    "electrons are shared between three hydrogen atoms (see figure above).\n",
    "The molecule is specified by providing a list with the symbols of the\n",
    "atomic species and a one-dimensional array with the initial set of\n",
    "nuclear coordinates in [atomic\n",
    "units](https://en.wikipedia.org/wiki/Hartree_atomic_units) .\n"
   ]
  },
  {
   "cell_type": "code",
   "execution_count": 6,
   "metadata": {
    "collapsed": false,
    "jupyter": {
     "outputs_hidden": false
    }
   },
   "outputs": [],
   "source": [
    "import pennylane as qml\n",
    "from pennylane import numpy as np\n",
    "\n",
    "symbols = [\"H\", \"Be\", \"H\"]\n",
    "geometry = np.array([[0.0, 0.0, -1.3441],\n",
    "                     [0.0, 0.0, 0.0],\n",
    "                     [0.0, 0.0, 1.3441]], requires_grad=True)"
   ]
  },
  {
   "cell_type": "markdown",
   "metadata": {},
   "source": [
    "Next, we need to build the parametrized electronic Hamiltonian $H(x)$.\n",
    "We use the Jordan-Wigner transformation to represent the fermionic\n",
    "Hamiltonian as a linear combination of Pauli operators,\n",
    "\n",
    "$$H(x) = \\sum_j h_j(x) \\prod_i^{N} \\sigma_i^{(j)}.$$\n",
    "\n",
    "The expansion coefficients $h_j(x)$ carry the dependence on the\n",
    "coordinates $x$, the operators $\\sigma_i$ represent the Pauli group\n",
    "$\\{I, X, Y, Z\\}$, and $N$ is the number of qubits required to represent\n",
    "the electronic wave function.\n",
    "\n",
    "We define the function `H(x)` to build the parametrized Hamiltonian of\n",
    "the trihydrogen cation using the\n",
    "`~.pennylane.qchem.molecular_hamiltonian`{.interpreted-text role=\"func\"}\n",
    "function.\n"
   ]
  },
  {
   "cell_type": "code",
   "execution_count": 7,
   "metadata": {
    "collapsed": false,
    "jupyter": {
     "outputs_hidden": false
    }
   },
   "outputs": [],
   "source": [
    "H, qubits = qml.qchem.molecular_hamiltonian(symbols, geometry, basis='sto-3g', active_electrons=2, active_orbitals=4)"
   ]
  },
  {
   "cell_type": "code",
   "execution_count": 8,
   "metadata": {},
   "outputs": [
    {
     "name": "stdout",
     "output_type": "stream",
     "text": [
      "generator 1:   (1.0) [Z2 Z3], paulix_op: PauliX(wires=[3])\n",
      "generator 2:   (1.0) [Z4 Z5], paulix_op: PauliX(wires=[5])\n",
      "generator 3:   (1.0) [Z0 Z2 Z4 Z6], paulix_op: PauliX(wires=[6])\n",
      "generator 4:   (1.0) [Z1 Z2 Z4 Z7], paulix_op: PauliX(wires=[7])\n"
     ]
    },
    {
     "name": "stderr",
     "output_type": "stream",
     "text": [
      "/opt/conda/lib/python3.8/site-packages/pennylane/operation.py:1830: UserWarning: Tensor object acts on overlapping wires; in some PennyLane functions this will lead to undefined behaviour\n",
      "  warnings.warn(\n",
      "/opt/conda/lib/python3.8/site-packages/pennylane/operation.py:1993: UserWarning: Tensor object acts on overlapping wires; in some PennyLane functions this will lead to undefined behaviour\n",
      "  warnings.warn(\n"
     ]
    }
   ],
   "source": [
    "generators = qml.symmetry_generators(H)\n",
    "paulixops = qml.paulix_ops(generators, qubits)\n",
    "\n",
    "for idx, generator in enumerate(generators):\n",
    "    print(f\"generator {idx+1}: {generator}, paulix_op: {paulixops[idx]}\")"
   ]
  },
  {
   "cell_type": "code",
   "execution_count": 9,
   "metadata": {},
   "outputs": [
    {
     "name": "stdout",
     "output_type": "stream",
     "text": [
      "[1, 1, -1, -1]\n"
     ]
    }
   ],
   "source": [
    "n_electrons = 2\n",
    "paulix_sector = qml.qchem.optimal_sector(H, generators, n_electrons)\n",
    "print(paulix_sector)"
   ]
  },
  {
   "cell_type": "code",
   "execution_count": null,
   "metadata": {},
   "outputs": [
    {
     "name": "stdout",
     "output_type": "stream",
     "text": [
      "  ((-12.728024776058982+0j)) [I0]\n",
      "+ ((-0.7558586515477563+0j)) [Z4]\n",
      "+ ((-0.7558586515474329+0j)) [Z2]\n",
      "+ ((-0.21380711646194148+0j)) [Z1]\n",
      "+ ((-0.2138071164619414+0j)) [Z0]\n",
      "+ ((-0.001993018450980797+0j)) [X0]\n",
      "+ ((0.001993018450980797+0j)) [X1]\n",
      "+ ((0.009413379410957741+0j)) [X2]\n",
      "+ ((0.009413379410962921+0j)) [X4]\n",
      "+ ((-0.0440553980076435+0j)) [X0 Z1]\n",
      "+ ((-0.035479687877840574+0j)) [Y0 Y1]\n",
      "+ ((-0.010289153698466596+0j)) [Y1 Y4]\n",
      "+ ((-0.010289153698466596+0j)) [X1 X4]\n",
      "+ ((-0.010289153698460975+0j)) [Y1 Y2]\n",
      "+ ((-0.010289153698460975+0j)) [X1 X2]\n",
      "+ ((0.009509419594518606+0j)) [Z0 Z2]\n",
      "+ ((0.009509419594518606+0j)) [Z1 Z2]\n",
      "+ ((0.009509419594727855+0j)) [Z0 Z4]\n",
      "+ ((0.009509419594727855+0j)) [Z1 Z4]\n",
      "+ ((0.010289153698460975-0j)) [X0 X2]\n",
      "+ ((0.010289153698460975-0j)) [Y0 Y2]\n",
      "+ ((0.010289153698466596-0j)) [X0 X4]\n",
      "+ ((0.010289153698466596-0j)) [Y0 Y4]\n",
      "+ ((0.01212469133649474+0j)) [Y2 Y4]\n",
      "+ ((0.01212469133649474+0j)) [X2 X4]\n",
      "+ ((0.0440553980076435-0j)) [Z0 X1]\n",
      "+ ((0.20095706463501226+0j)) [Z2 Z4]\n",
      "+ ((0.23152430471400248+0j)) [Z0 Z1]\n",
      "+ ((-0.042062379419093555+0j)) [Z0 X1 Z2]\n",
      "+ ((-0.042062379419093555+0j)) [Z0 X1 Z4]\n",
      "+ ((-0.01637757743558905+0j)) [Y0 Y1 X4]\n",
      "+ ((-0.0163775774355801+0j)) [Y0 Y1 X2]\n",
      "+ ((-0.001993018450980797+0j)) [X0 Z2 Z4]\n",
      "+ ((0.001993018450980797+0j)) [X1 Z2 Z4]\n",
      "+ ((0.009413379410957741-0j)) [Z1 X2 Z4]\n",
      "+ ((0.009413379410957741+0j)) [Z0 Z1 X2]\n",
      "+ ((0.009413379410957741-0j)) [Z0 X2 Z4]\n",
      "+ ((0.009413379410962921-0j)) [Z1 Z2 X4]\n",
      "+ ((0.009413379410962921+0j)) [Z0 Z1 X4]\n",
      "+ ((0.009413379410962921-0j)) [Z0 Z2 X4]\n",
      "+ ((0.0163775774355801+0j)) [Y0 X1 Y2]\n",
      "+ ((0.0163775774355801+0j)) [X0 X1 X2]\n",
      "+ ((0.0163775774355801+0j)) [X0 Y1 Y2]\n",
      "+ ((0.01637757743558905+0j)) [Y0 X1 Y4]\n",
      "+ ((0.01637757743558905+0j)) [X0 X1 X4]\n",
      "+ ((0.01637757743558905+0j)) [X0 Y1 Y4]\n",
      "+ ((0.042062379419093555+0j)) [X0 Z1 Z4]\n",
      "+ ((0.042062379419093555+0j)) [X0 Z1 Z2]\n",
      "+ ((0.6207231649820298-0j)) [Z0 Z2 Z4]\n",
      "+ ((0.6207231649820298-0j)) [Z1 Z2 Z4]\n",
      "+ ((-0.22375825679923753+0j)) [Z0 Z1 Z2 Z4]\n",
      "+ ((-0.0440553980076435+0j)) [X0 Z1 Z2 Z4]\n",
      "+ ((-0.035479687877840574+0j)) [Y0 Y1 Z2 Z4]\n",
      "+ ((-0.010289153698466596+0j)) [Z0 Y1 Z2 Y4]\n",
      "+ ((-0.010289153698466596+0j)) [Z0 X1 Z2 X4]\n",
      "+ ((-0.010289153698460975+0j)) [Z0 Y1 Y2 Z4]\n",
      "+ ((-0.010289153698460975+0j)) [Z0 X1 X2 Z4]\n",
      "+ ((0.010289153698460975+0j)) [X0 Z1 X2 Z4]\n",
      "+ ((0.010289153698460975+0j)) [Y0 Z1 Y2 Z4]\n",
      "+ ((0.010289153698466596+0j)) [X0 Z1 Z2 X4]\n",
      "+ ((0.010289153698466596+0j)) [Y0 Z1 Z2 Y4]\n",
      "+ ((0.0440553980076435+0j)) [Z0 X1 Z2 Z4]\n"
     ]
    }
   ],
   "source": [
    "H_tapered = qml.taper(H, generators, paulixops, paulix_sector)\n",
    "print(H_tapered)"
   ]
  },
  {
   "cell_type": "code",
   "execution_count": null,
   "metadata": {},
   "outputs": [
    {
     "name": "stdout",
     "output_type": "stream",
     "text": [
      "<Wires = [0, 1, 2, 3, 4, 5, 6, 7]>\n",
      "<Wires = [0, 1, 2, 4]>\n"
     ]
    }
   ],
   "source": [
    "print(H.wires)\n",
    "print(H_tapered.wires)"
   ]
  },
  {
   "cell_type": "code",
   "execution_count": null,
   "metadata": {},
   "outputs": [
    {
     "name": "stdout",
     "output_type": "stream",
     "text": [
      "Eigenvalues of H:\n",
      " [-14.89645067 -14.73783044 -14.73783044 -14.6172819  -14.6172819\n",
      " -14.73783044 -14.73783044 -14.6172819 ]\n",
      "\n",
      "Eigenvalues of H_tapered:\n",
      " [-14.89645067 -14.16700922]\n"
     ]
    }
   ],
   "source": [
    "H_sparse = qml.SparseHamiltonian(qml.utils.sparse_hamiltonian(H), wires=H.wires)\n",
    "H_tapered_sparse = qml.SparseHamiltonian(qml.utils.sparse_hamiltonian(H_tapered), wires=H_tapered.wires)\n",
    "\n",
    "print(\"Eigenvalues of H:\\n\", qml.eigvals(H_sparse, k=8))\n",
    "print(\"\\nEigenvalues of H_tapered:\\n\", qml.eigvals(H_tapered_sparse, k=2))"
   ]
  },
  {
   "cell_type": "code",
   "execution_count": null,
   "metadata": {},
   "outputs": [
    {
     "name": "stdout",
     "output_type": "stream",
     "text": [
      "[1 1 0 0] <class 'pennylane.numpy.tensor.tensor'>\n"
     ]
    }
   ],
   "source": [
    "state_tapered = qml.qchem.taper_hf(generators, paulixops, paulix_sector,\n",
    "                                   num_electrons=n_electrons, num_wires=len(H.wires))\n",
    "print(state_tapered,type(state_tapered))"
   ]
  },
  {
   "attachments": {},
   "cell_type": "markdown",
   "metadata": {},
   "source": [
    "Recall that the original Hartree-Fock state for the BeH2 is [1111000] for 4 electrons and [1100] for 2 electrons. We can now generate the qubit representation of these states and compute the Hartree-Fock energies for each Hamiltonian."
   ]
  },
  {
   "cell_type": "code",
   "execution_count": null,
   "metadata": {},
   "outputs": [
    {
     "name": "stdout",
     "output_type": "stream",
     "text": [
      "HF energy: -14.88288874 Ha\n",
      "HF energy (tapered): -14.88288874 Ha\n"
     ]
    }
   ],
   "source": [
    "dev = qml.device(\"default.qubit\", wires=H.wires)\n",
    "#dev = qml.device('qiskit.ibmq', wires=H.wires, backend='ibm_nairobi', provider=provider)\n",
    "@qml.qnode(dev)\n",
    "def circuit():\n",
    "    qml.BasisState(np.array([1, 1, 0, 0, 0, 0, 0, 0]), wires=H.wires)\n",
    "    return qml.state()\n",
    "\n",
    "qubit_state = circuit()\n",
    "HF_energy = qubit_state.T @ qml.utils.sparse_hamiltonian(H).toarray() @ qubit_state\n",
    "print(f\"HF energy: {np.real(HF_energy):.8f} Ha\")\n",
    "\n",
    "dev = qml.device(\"default.qubit\", wires=H_tapered.wires)\n",
    "@qml.qnode(dev)\n",
    "def circuit():\n",
    "    qml.BasisState(np.array([ 1, 1, 0, 0]), wires=H_tapered.wires)\n",
    "    return qml.state()\n",
    "\n",
    "qubit_state = circuit()\n",
    "HF_energy = qubit_state.T @ qml.utils.sparse_hamiltonian(H_tapered).toarray() @ qubit_state\n",
    "print(f\"HF energy (tapered): {np.real(HF_energy):.8f} Ha\")"
   ]
  },
  {
   "cell_type": "markdown",
   "metadata": {},
   "source": [
    "Energy for 6-31g basis set is:\n",
    "\n",
    "HF energy: -15.12050563 Ha\n",
    "\n",
    "HF energy (tapered): -15.12050563 Ha"
   ]
  },
  {
   "cell_type": "markdown",
   "metadata": {},
   "source": [
    "These values are close to the reference Hartree-Fock energy −15.773 Ha. [DOI:10.1021/j100868a076, DOI:10.1103/PhysRevResearch.3.013104, DOI:10.1002/(SICI)1097-461X(1996)60:1%3C493::AID-QUA48%3E3.0.CO;2-A]"
   ]
  },
  {
   "cell_type": "markdown",
   "metadata": {},
   "source": [
    "### VQE Simulation"
   ]
  },
  {
   "cell_type": "code",
   "execution_count": null,
   "metadata": {},
   "outputs": [],
   "source": [
    "singles, doubles = qml.qchem.excitations(n_electrons, len(H.wires))\n",
    "tapered_doubles = [\n",
    "    qml.taper_operation(qml.DoubleExcitation, generators, paulixops, paulix_sector,\n",
    "                        wire_order=H.wires, op_wires=double) for double in doubles\n",
    "]\n",
    "tapered_singles = [\n",
    "    qml.taper_operation(qml.SingleExcitation, generators, paulixops, paulix_sector,\n",
    "                        wire_order=H.wires, op_wires=single) for single in singles\n",
    "]\n"
   ]
  },
  {
   "cell_type": "code",
   "execution_count": 36,
   "metadata": {},
   "outputs": [],
   "source": [
    "dev = qml.device(\"default.qubit\", wires=H_tapered.wires)\n",
    "#dev = pennylane_qiskit.ibmq.IBMQDevice(wires=H_tapered.wires, provider=None, backend='ibmq_qasm_simulator', shots=None)\n",
    "#dev = qml.device('qiskit.ibmq', wires=H_tapered.wires, backend='ibmq_lima', provider=provider)\n",
    "#dev = qml.device('qiskit.aer', wires=H_tapered.wires, backend=\"statevector_simulator\", shots=300)\n",
    "@qml.qnode(dev)\n",
    "def tapered_circuit(params):\n",
    "    qml.BasisState(state_tapered, wires=H_tapered.wires)\n",
    "    for idx, tapered_op in enumerate(tapered_doubles + tapered_singles):\n",
    "        tapered_op(params[idx])\n",
    "    return qml.expval(H_tapered)\n"
   ]
  },
  {
   "cell_type": "code",
   "execution_count": 37,
   "metadata": {},
   "outputs": [
    {
     "name": "stdout",
     "output_type": "stream",
     "text": [
      "n: 5, E: -14.89456179 Ha\n",
      "n: 10, E: -14.89622374 Ha\n",
      "n: 15, E: -14.89642194 Ha\n",
      "n: 20, E: -14.89644694 Ha\n",
      "n: 25, E: -14.89645018 Ha\n",
      "n: 30, E: -14.89645060 Ha\n",
      "n: 35, E: -14.89645066 Ha\n",
      "n: 40, E: -14.89645067 Ha\n"
     ]
    }
   ],
   "source": [
    "optimizer = qml.GradientDescentOptimizer(stepsize=0.5)\n",
    "#optimizer = qml.QNGOptimizer(stepsize=0.5)\n",
    "#optimizer = qml.ShotAdaptiveOptimizer(min_shots=10)\n",
    "#optimizer = opt = qml.AdamOptimizer(0.05)\n",
    "params = np.zeros(len(doubles) + len(singles), requires_grad=True)\n",
    "\n",
    "for n in range(1, 45):\n",
    "    params, energy = optimizer.step_and_cost(tapered_circuit, params)\n",
    "    if not n % 5:\n",
    "        print(f\"n: {n}, E: {energy:.8f} Ha\")"
   ]
  },
  {
   "cell_type": "markdown",
   "metadata": {},
   "source": [
    "## Single point energy computation"
   ]
  },
  {
   "cell_type": "code",
   "execution_count": 24,
   "metadata": {},
   "outputs": [],
   "source": [
    "dev = qml.device('qiskit.ibmq', wires=H_tapered.wires, backend='ibmq_lima', provider=provider, shots=1000)\n",
    "@qml.qnode(dev)\n",
    "def tapered_circuit(params):\n",
    "    qml.BasisState(state_tapered, wires=H_tapered.wires)\n",
    "    for idx, tapered_op in enumerate(tapered_doubles + tapered_singles):\n",
    "        tapered_op(params[idx])\n",
    "    return qml.expval(H_tapered)"
   ]
  },
  {
   "cell_type": "code",
   "execution_count": 25,
   "metadata": {},
   "outputs": [
    {
     "name": "stdout",
     "output_type": "stream",
     "text": [
      "(-13.4063866589651+0j)\n"
     ]
    }
   ],
   "source": [
    "# Energy from IMB QPU\n",
    "energy = tapered_circuit(params)\n",
    "\n",
    "print(energy)"
   ]
  },
  {
   "cell_type": "markdown",
   "metadata": {},
   "source": [
    "The computed energy is close to the experimental ground state energy, −15.4 Ha, while the number of qubits and the number of Hamiltonian terms are significantly reduced with respect to their original values."
   ]
  },
  {
   "cell_type": "code",
   "execution_count": 21,
   "metadata": {},
   "outputs": [
    {
     "name": "stdout",
     "output_type": "stream",
     "text": [
      "Traceback \u001b[1;36m(most recent call last)\u001b[0m:\n",
      "  Input \u001b[0;32mIn [21]\u001b[0m in \u001b[0;35m<cell line: 7>\u001b[0m\n",
      "    program_id = upload_vqe_runner(hub=\"ibm-q\", group=\"open\", project=\"main\")\n",
      "  File \u001b[0;32m/opt/conda/lib/python3.8/site-packages/pennylane_qiskit/vqe_runtime_runner.py:119\u001b[0m in \u001b[0;35mupload_vqe_runner\u001b[0m\n",
      "    connect(kwargs)\n",
      "  File \u001b[0;32m/opt/conda/lib/python3.8/site-packages/pennylane_qiskit/ibmq.py:136\u001b[0m in \u001b[0;35mconnect\u001b[0m\n",
      "    IBMQ.load_account()\n",
      "  File \u001b[0;32m/opt/conda/lib/python3.8/site-packages/qiskit/providers/ibmq/ibmqfactory.py:191\u001b[0m in \u001b[0;35mload_account\u001b[0m\n",
      "    self._initialize_providers(credentials, preferences)\n",
      "  File \u001b[0;32m/opt/conda/lib/python3.8/site-packages/qiskit/providers/ibmq/ibmqfactory.py:456\u001b[0m in \u001b[0;35m_initialize_providers\u001b[0m\n",
      "    auth_client = AuthClient(credentials.token,\n",
      "  File \u001b[0;32m/opt/conda/lib/python3.8/site-packages/qiskit/providers/ibmq/api/clients/auth.py:41\u001b[0m in \u001b[0;35m__init__\u001b[0m\n",
      "    self.base_api = self._init_service_clients(**request_kwargs)\n",
      "  File \u001b[0;32m/opt/conda/lib/python3.8/site-packages/qiskit/providers/ibmq/api/clients/auth.py:53\u001b[0m in \u001b[0;35m_init_service_clients\u001b[0m\n",
      "    access_token = self._request_access_token()\n",
      "  File \u001b[0;32m/opt/conda/lib/python3.8/site-packages/qiskit/providers/ibmq/api/clients/auth.py:75\u001b[0m in \u001b[0;35m_request_access_token\u001b[0m\n",
      "    response = self.auth_api.login(self.api_token)\n",
      "  File \u001b[0;32m/opt/conda/lib/python3.8/site-packages/qiskit/providers/ibmq/api/rest/root.py:125\u001b[0m in \u001b[0;35mlogin\u001b[0m\n",
      "    return self.session.post(url, json={'apiToken': api_token}).json()\n",
      "  File \u001b[0;32m/opt/conda/lib/python3.8/site-packages/requests/sessions.py:577\u001b[0m in \u001b[0;35mpost\u001b[0m\n",
      "    return self.request('POST', url, data=data, json=json, **kwargs)\n",
      "\u001b[1;36m  File \u001b[1;32m/opt/conda/lib/python3.8/site-packages/qiskit/providers/ibmq/api/session.py:300\u001b[1;36m in \u001b[1;35mrequest\u001b[1;36m\u001b[0m\n",
      "\u001b[1;33m    raise RequestsApiError(message, status_code) from ex\u001b[0m\n",
      "\u001b[1;31mRequestsApiError\u001b[0m\u001b[1;31m:\u001b[0m '401 Client Error: Unauthorized for url: https://auth.quantum-computing.ibm.com/api/users/loginWithToken. Login failed., Error code: 3446.'\n",
      "\n",
      "Use %tb to get the full traceback.\n"
     ]
    },
    {
     "data": {
      "text/html": [
       "\n",
       "<style>\n",
       ".button {\n",
       "  border: none;\n",
       "  color: white;\n",
       "  padding: 4px 8px;\n",
       "  text-align: center;\n",
       "  text-decoration: none;\n",
       "  display: inline-block;\n",
       "  font-size: 12px;\n",
       "  margin: 4px 2px;\n",
       "  transition-duration: 0.2s;\n",
       "  cursor: pointer;\n",
       "}\n",
       ".iqx-button {\n",
       "  background-color: #0f62fe; \n",
       "  color: white; \n",
       "}\n",
       ".iqx-button:hover {\n",
       "  background-color: #0043ce;\n",
       "  color: white;\n",
       "}\n",
       "</style>\n",
       "<a href=\"https://stackoverflow.com/search?q=RequestsApiError: 401 Client Error: Unauthorized for url: https://auth.quantum-computing.ibm.com/api/users/loginWithToken. Login failed., Error code: 3446.\" target='_blank'><button class='button iqx-button'>Search for solution online</button></a>\n"
      ],
      "text/plain": [
       "<IPython.core.display.HTML object>"
      ]
     },
     "metadata": {},
     "output_type": "display_data"
    }
   ],
   "source": [
    "from pennylane_qiskit import upload_vqe_runner, vqe_runner\n",
    "\n",
    "#BMQ.enable_account(token=\"\")\n",
    "#BMQ.load_account() # Load account from disk\n",
    "#IBMQ.get_provider(hub='ibm-q')\n",
    "\n",
    "rogram_id = upload_vqe_runner(hub=\"qhack-event\", group=\"main\", project=\"level-1\")\n",
    "\n",
    "def vqe_circuit(params):\n",
    "    qml.BasisState(state_tapered, wires=H_tapered.wires)\n",
    "    for idx, tapered_op in enumerate(tapered_doubles + tapered_singles):\n",
    "        tapered_op(params[idx])\n",
    "    return qml.expval(H_tapered)\n",
    "\n",
    "\n",
    "params = np.zeros(len(doubles) + len(singles), requires_grad=True)\n",
    "hamiltonian = H_tapered\n",
    "\n",
    "job = vqe_runner(\n",
    "    program_id=program_id,\n",
    "    backend=\"ibmq_qasm_simulator\",\n",
    "    hamiltonian=hamiltonian,\n",
    "    ansatz=vqe_circuit,\n",
    "    x0=params,\n",
    "    shots=100,\n",
    "    optimizer=\"SPSA\",\n",
    "    optimizer_config={\"maxiter\": 55},\n",
    "    #kwargs={\"hub\": \"qhack-event\", \"group\": \"main\", \"project\": \"level-1\"},\n",
    ")\n",
    "\n",
    "\n",
    "job.result()\n",
    "results = job.intermediate_results['function']"
   ]
  }
 ],
 "metadata": {
  "kernelspec": {
   "display_name": "Python 3 (ipykernel)",
   "language": "python",
   "name": "python3"
  },
  "language_info": {
   "codemirror_mode": {
    "name": "ipython",
    "version": 3
   },
   "file_extension": ".py",
   "mimetype": "text/x-python",
   "name": "python",
   "nbconvert_exporter": "python",
   "pygments_lexer": "ipython3",
   "version": "3.8.15"
  },
  "vscode": {
   "interpreter": {
    "hash": "c0aa2788d6a1a9ecc611ed6a515c6c7d0e922e22e593ec7911d523bce1c53e7c"
   }
  },
  "widgets": {
   "application/vnd.jupyter.widget-state+json": {
    "state": {},
    "version_major": 2,
    "version_minor": 0
   }
  }
 },
 "nbformat": 4,
 "nbformat_minor": 4
}
